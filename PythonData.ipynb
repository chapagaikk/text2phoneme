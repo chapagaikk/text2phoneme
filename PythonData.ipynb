{
 "cells": [
  {
   "cell_type": "code",
   "execution_count": null,
   "metadata": {
    "collapsed": false
   },
   "outputs": [],
   "source": [
    "# Reading data from CSV file using csv package\n",
    "\n",
    "import csv\n",
    "import io\n",
    "\n",
    "# Read data from text file   \n",
    "with io.open('Bangtsho.txt','r',encoding='utf8') as RdCompiled:\n",
    "    with io.open('bangto.txt','w',encoding='utf8') as wrtCompiled:\n",
    "        text = RdCompiled.readlines()\n",
    "        j=1;\n",
    "        for line in text:\n",
    "            line = line.rstrip(\"\\n\")\n",
    "            #print (line)\n",
    "            if (line[0]) != '0' and (line[1]) != '0':\n",
    "                line_write = '( dzonkha_' + '{:d}'.format(j).zfill(4) + ' \" ' + line + ' \" )' +'\\n'\n",
    "                print (line_write)\n",
    "                j=j+1\n",
    "                # process Unicode text\n",
    "                wrtCompiled.write(line_write)"
   ]
  },
  {
   "cell_type": "code",
   "execution_count": null,
   "metadata": {
    "collapsed": false,
    "scrolled": false
   },
   "outputs": [],
   "source": [
    "### Reading data from CSV file using csv package\n",
    "\n",
    "import csv\n",
    "import io\n",
    "\n",
    "# Read data from text file   \n",
    "with io.open('Compiled.txt','r',encoding='utf8') as RdCompiled:\n",
    "    with io.open('WCompiled.txt','w',encoding='utf8') as wrtCompiled:\n",
    "        text = RdCompiled.readlines()\n",
    "        j=1;\n",
    "        for line in text:\n",
    "            line = line.rstrip(\"\\n\")\n",
    "            #print (line)\n",
    "            if (line[0]) != '0' and (line[1]) != '0':\n",
    "                line_write = '( dzonkha_' + '{:d}'.format(j).zfill(4) + ' \" ' + line + ' \" )' +'\\n'\n",
    "                print (line_write)\n",
    "                j=j+1\n",
    "                # process Unicode text\n",
    "                wrtCompiled.write(line_write)"
   ]
  },
  {
   "cell_type": "code",
   "execution_count": null,
   "metadata": {
    "collapsed": false
   },
   "outputs": [],
   "source": [
    "li = [2,31,321,41,3423,4,234,24,32,42,3,24,31,123]\n",
    "for i in range(1,len(li)):\n",
    "    print (li[i]), (li[i-1])"
   ]
  },
  {
   "cell_type": "code",
   "execution_count": null,
   "metadata": {
    "collapsed": false
   },
   "outputs": [],
   "source": [
    "for i in range(5):\n",
    "    y = i;\n",
    "    print (y[1])\n",
    "    print (type(y))"
   ]
  },
  {
   "cell_type": "code",
   "execution_count": null,
   "metadata": {
    "collapsed": false
   },
   "outputs": [],
   "source": [
    "mylist = [1,2,3]\n",
    "for item in mylist:\n",
    "    print (item)\n",
    "    \n",
    "mydict  = {1:'one', 2:'two', 3:'three'}\n",
    "for key in mydict:\n",
    "    print (mydict[key])"
   ]
  },
  {
   "cell_type": "code",
   "execution_count": null,
   "metadata": {
    "collapsed": false
   },
   "outputs": [],
   "source": [
    "for x in range(5):\n",
    "    print(x)\n",
    "print(type(x))\n",
    "for i in range(1000):\n",
    "    print('{:d}'.format(i).zfill(4))"
   ]
  },
  {
   "cell_type": "code",
   "execution_count": null,
   "metadata": {
    "collapsed": false
   },
   "outputs": [],
   "source": [
    "# Read data into tuple format and print all rows\n",
    "# Make sure data file is in same folder as notebook\n",
    "with open('Cities.csv') as cities:\n",
    "    rows = csv.reader(cities)\n",
    "    for r in rows:\n",
    "        print (r)\n",
    "        "
   ]
  },
  {
   "cell_type": "code",
   "execution_count": null,
   "metadata": {
    "collapsed": false
   },
   "outputs": [],
   "source": [
    "# Same as previous except use dictionary format\n",
    "with open('Cities.csv') as cities:\n",
    "    rows = csv.DictReader(cities)\n",
    "    for r in rows:\n",
    "        print (r)"
   ]
  },
  {
   "cell_type": "code",
   "execution_count": null,
   "metadata": {
    "collapsed": false
   },
   "outputs": [],
   "source": [
    "# Print the name and longitude of all cities with longitude < 0\n",
    "# Use dictionary format\n",
    "with open('Cities.csv') as cities:\n",
    "    rows = csv.DictReader(cities)\n",
    "    for r in rows:\n",
    "        if float(r['longitude']) < 0:\n",
    "            print (r['city'], r['longitude'])"
   ]
  },
  {
   "cell_type": "code",
   "execution_count": null,
   "metadata": {
    "collapsed": false
   },
   "outputs": [],
   "source": [
    "# Same but using tuple format\n",
    "with open('Cities.csv') as cities:\n",
    "    rows = csv.reader(cities)\n",
    "    next(rows)\n",
    "    for r in rows:\n",
    "        if float(r[3]) < 0:\n",
    "            print (r[0], r[3])\n",
    "# Fix header row with next(rows)"
   ]
  },
  {
   "cell_type": "code",
   "execution_count": null,
   "metadata": {
    "collapsed": false
   },
   "outputs": [],
   "source": [
    "# Perform join of cities and countries, print city and whether in EU\n",
    "with open('Cities.csv') as cities:\n",
    "    cityrows = csv.DictReader(cities)\n",
    "    for c1 in cityrows:\n",
    "        with open('Countries.csv') as countries:\n",
    "            countryrows = csv.DictReader(countries)\n",
    "            for c2 in countryrows:\n",
    "                if c1['country'] == c2['country']:\n",
    "                    print (c1['city'], c2['EU'])"
   ]
  },
  {
   "cell_type": "markdown",
   "metadata": {},
   "source": [
    "### <font color=\"green\">Your Turn</font>"
   ]
  },
  {
   "cell_type": "code",
   "execution_count": null,
   "metadata": {
    "collapsed": false
   },
   "outputs": [],
   "source": [
    "# Using Countries.csv and reading in dictionary format, find all countries that\n",
    "# have coastline and are not in the EU. The program should print 'COASTLINE - NOT EU'\n",
    "# then the list of countries and their highest points.\n",
    "# Read the file again in tuple format, find all countries that have no coastline\n",
    "# and are in the EU. The program should print 'NO COASTLINE - EU' then the list of\n",
    "# countries and their highest points.\n",
    "\n",
    "with open('Countries.csv') as countries:\n",
    "    rows = csv.DictReader(countries)\n",
    "    print(rows)\n",
    "    for r in rows:\n",
    "        #print(r)\n",
    "        if r['coastline']=='yes' and r['EU'] == 'no':\n",
    "              print(r['country'],r['highest'])"
   ]
  },
  {
   "cell_type": "markdown",
   "metadata": {},
   "source": [
    "### Reading data into Python data structures"
   ]
  },
  {
   "cell_type": "code",
   "execution_count": null,
   "metadata": {
    "collapsed": false
   },
   "outputs": [],
   "source": [
    "# Read Cities.csv data into list of dictionaries\n",
    "citylist = []\n",
    "with open('Cities.csv') as cities:\n",
    "    rows = csv.DictReader(cities)\n",
    "    for r in rows:\n",
    "        citylist.append(r)\n",
    "print (citylist)"
   ]
  },
  {
   "cell_type": "code",
   "execution_count": null,
   "metadata": {
    "collapsed": false
   },
   "outputs": [],
   "source": [
    "# Perform join of cities and countries, print city and whether in EU\n",
    "citylist = []\n",
    "countrylist = []\n",
    "with open('Cities.csv') as cities:\n",
    "    rows = csv.DictReader(cities)\n",
    "    for r in rows:\n",
    "        citylist.append(r)\n",
    "with open('Countries.csv') as countries:\n",
    "    rows = csv.DictReader(countries)\n",
    "    for r in rows:\n",
    "        countrylist.append(r)\n",
    "for c1 in citylist:\n",
    "    for c2 in countrylist:\n",
    "        if c1['country'] == c2['country']:\n",
    "            print (c1['city'], c2['EU'])"
   ]
  },
  {
   "cell_type": "code",
   "execution_count": null,
   "metadata": {
    "collapsed": false
   },
   "outputs": [],
   "source": [
    "# Compute overall average city temperature\n",
    "listoftemps = []\n",
    "with open('Cities.csv') as cities:\n",
    "    rows = csv.DictReader(cities)\n",
    "    for r in rows:\n",
    "        listoftemps.append(float(r['temperature'])) \n",
    "print(listoftemps)\n",
    "print (sum(listoftemps)/len(listoftemps)) #average is not a function in python"
   ]
  },
  {
   "cell_type": "code",
   "execution_count": null,
   "metadata": {
    "collapsed": false
   },
   "outputs": [],
   "source": [
    "# Find the average longitude and average latitude of all cities in France\n",
    "\n",
    "frenchlong = []\n",
    "frenchlat = []\n",
    "with open('Cities.csv') as cities:\n",
    "    rows = csv.DictReader(cities)\n",
    "    for r in rows:\n",
    "        #print(r)\n",
    "        if(r['country']) == 'France':\n",
    "            frenchlong.append(float(r['longitude'])) #append longitude to frenchlong\n",
    "            frenchlat.append(float(r['latitude']))#append latitude to frenchlong\n",
    "#print(frenchlong)\n",
    "#print(frenchlat)\n",
    "print(sum(frenchlong)/len(frenchlong))\n",
    "print(sum(frenchlat)/len(frenchlat))"
   ]
  },
  {
   "cell_type": "code",
   "execution_count": null,
   "metadata": {
    "collapsed": false
   },
   "outputs": [],
   "source": [
    "# Compute average city temperature for each country\n",
    "countrycount = {} # dictionary with key = country and value = number of cities\n",
    "countrysum = {} # dictionary with key = country and value = sum of temperatures\n",
    "with open('Cities.csv') as cities:\n",
    "    rows = csv.DictReader(cities)\n",
    "    for r in rows:\n",
    "        if r['country'] in countrysum:\n",
    "            countrycount[r['country']] += 1\n",
    "            countrysum[r['country']] += float(r['temperature'])\n",
    "        else:\n",
    "            countrycount[r['country']] = 1\n",
    "            countrysum[r['country']] = float(r['temperature'])\n",
    "for c in countrycount:\n",
    "    print (c, countrysum[c]/countrycount[c])"
   ]
  },
  {
   "cell_type": "markdown",
   "metadata": {},
   "source": [
    "### <font color=\"green\">Your Turn</font>"
   ]
  },
  {
   "cell_type": "code",
   "execution_count": null,
   "metadata": {
    "collapsed": false,
    "scrolled": true
   },
   "outputs": [],
   "source": [
    "# Find the average longitude and average latitude of all cities that are in an EU\n",
    "# country, and separately the average longitude and average latitude of all cities\n",
    "# that are not in an EU country. Print the four values with suitable labels."
   ]
  },
  {
   "cell_type": "markdown",
   "metadata": {},
   "source": [
    "### Making average easier with numpy"
   ]
  },
  {
   "cell_type": "code",
   "execution_count": null,
   "metadata": {
    "collapsed": true
   },
   "outputs": [],
   "source": [
    "import numpy as np"
   ]
  },
  {
   "cell_type": "code",
   "execution_count": null,
   "metadata": {
    "collapsed": false
   },
   "outputs": [],
   "source": [
    "# Compute overall average city temperature\n",
    "listoftemps = []\n",
    "with open('Cities.csv') as cities:\n",
    "    rows = csv.DictReader(cities)\n",
    "    for r in rows:\n",
    "        listoftemps.append(float(r['temperature'])) \n",
    "print (np.average(listoftemps))"
   ]
  },
  {
   "cell_type": "code",
   "execution_count": null,
   "metadata": {
    "collapsed": false
   },
   "outputs": [],
   "source": [
    "# Compute average city temperature for each country\n",
    "countrytemps = {} # dictionary with key = country and value = list of temperatures\n",
    "with open('Cities.csv') as cities:\n",
    "    rows = csv.DictReader(cities)\n",
    "    for r in rows:\n",
    "        if r['country'] in countrytemps:\n",
    "            countrytemps[r['country']].append(float(r['temperature']))\n",
    "        else:\n",
    "            countrytemps[r['country']] = [float(r['temperature'])]\n",
    "for c in countrytemps:\n",
    "    print (c, np.average(countrytemps[c]))"
   ]
  },
  {
   "cell_type": "markdown",
   "metadata": {},
   "source": [
    "### <font color=\"green\">Your Turn</font>"
   ]
  },
  {
   "cell_type": "code",
   "execution_count": null,
   "metadata": {
    "collapsed": false,
    "scrolled": true
   },
   "outputs": [],
   "source": [
    "# Simplify your solution to the previous 'Your Turn' using numpy\n",
    "#\n",
    "# Find the average longitude and average latitude of all cities that are in an EU\n",
    "# country, and separately the average longitue and average latitude of all cities\n",
    "# that are not in an EU country. Print the four values with suitable labels."
   ]
  },
  {
   "cell_type": "markdown",
   "metadata": {},
   "source": [
    "### Minimum and maximum"
   ]
  },
  {
   "cell_type": "code",
   "execution_count": null,
   "metadata": {
    "collapsed": false
   },
   "outputs": [],
   "source": [
    "# Find minimum and maximum city temperatures by sorting\n",
    "listoftemps = []\n",
    "with open('Cities.csv') as cities:\n",
    "    rows = csv.DictReader(cities)\n",
    "    for r in rows:\n",
    "        #print(r)\n",
    "        listoftemps.append(float(r['temperature']))\n",
    "        #print(listoftemps)\n",
    "listoftemps.sort()\n",
    "print ('Minimum:', listoftemps)\n",
    "print ('Maximum:', listoftemps)"
   ]
  },
  {
   "cell_type": "code",
   "execution_count": null,
   "metadata": {
    "collapsed": false
   },
   "outputs": [],
   "source": [
    "# Fortunately Python includes built-in min/max functions\n",
    "listoftemps = []\n",
    "with open('Cities.csv') as cities:\n",
    "    rows = csv.DictReader(cities)\n",
    "    for r in rows:\n",
    "        listoftemps.append(float(r['temperature']))\n",
    "print ('Minimum:', min(listoftemps))\n",
    "print ('Maximum:', max(listoftemps))"
   ]
  },
  {
   "cell_type": "code",
   "execution_count": null,
   "metadata": {
    "collapsed": false
   },
   "outputs": [],
   "source": [
    "# Find countries with minimum and maximum average city temperatures\n",
    "countrytemps = {} # dictionary with key = country and value = list of temperatures\n",
    "with open('Cities.csv') as cities:\n",
    "    rows = csv.DictReader(cities)\n",
    "    for r in rows:\n",
    "        if r['country'] in countrytemps:\n",
    "            countrytemps[r['country']].append(float(r['temperature']))\n",
    "        else:\n",
    "            countrytemps[r['country']] = [float(r['temperature'])]\n",
    "avglist = [] # list of tuples (country,avgtemp)\n",
    "for c in countrytemps:\n",
    "    avglist.append((c,np.average(countrytemps[c])))\n",
    "print ('Minimum:', min(avglist, key=lambda x: x[1]))\n",
    "print ('Maximum:', max(avglist, key=lambda x: x[1]))"
   ]
  },
  {
   "cell_type": "markdown",
   "metadata": {},
   "source": [
    "### Aside: Reading data from CSV file without using csv package"
   ]
  },
  {
   "cell_type": "code",
   "execution_count": null,
   "metadata": {
    "collapsed": false
   },
   "outputs": [],
   "source": [
    "# Read Cities.csv as lines in file split by commas, print all lines\n",
    "with open('Cities.csv') as cities:\n",
    "    for line in cities:\n",
    "        row = line.split(',')\n",
    "        print ('city:', row[0], 'country:', row[1], 'latitude:', row[2], 'longitude:', row[3], 'temperature:', row[4])\n",
    "# Fix header row with next(cities)"
   ]
  },
  {
   "cell_type": "markdown",
   "metadata": {},
   "source": [
    "### <font color=\"green\">Your Turn: World Cup Data</font>"
   ]
  },
  {
   "cell_type": "code",
   "execution_count": null,
   "metadata": {
    "collapsed": false
   },
   "outputs": [],
   "source": [
    "# What player on a team with “ia” in its name played less than 200 minutes and made\n",
    "# more than 100 passes? Print the player surname.\n",
    "# Hint: In Python, use \"'abc' in s\" to check whether string s contains'abc'\n",
    "# Hint: Convert minutes and passes to integers before comparing them to values\n",
    "\n",
    "with open('Players.csv') as player:\n",
    "    rows = csv.DictReader(player)\n",
    "    for r in rows:\n",
    "        #print(r)\n",
    "        if('ia' in r['team'] and float(r['minutes']) < 200 and float(r['passes']) > 100):\n",
    "            print(r['surname'])"
   ]
  },
  {
   "cell_type": "code",
   "execution_count": null,
   "metadata": {
    "collapsed": false
   },
   "outputs": [],
   "source": [
    "# What is the average number of passes made by defenders? By forwards?\n",
    "passdefender = []\n",
    "passforward = []\n",
    "with open('Players.csv') as player:\n",
    "    rows = csv.DictReader(player)\n",
    "    for r in rows:\n",
    "        #print(r)\n",
    "        if(r['position'] == 'defender'):\n",
    "            passdefender.append(int(r['passes'])) \n",
    "            #print(passdefender)\n",
    "        if(r['position'] == 'forward'):\n",
    "            passforward.append(int(r['passes'])) \n",
    "            #print(passforward)\n",
    "print(sum(passdefender)/len(passdefender))\n",
    "print(sum(passforward)/len(passforward))    \n",
    "        "
   ]
  },
  {
   "cell_type": "code",
   "execution_count": null,
   "metadata": {
    "collapsed": false
   },
   "outputs": [],
   "source": [
    "# Which team has the highest ratio of goalsFor to goalsAgainst? Print the team name only.\n",
    "# Hint: Use float() to make sure you're doing floating point division"
   ]
  },
  {
   "cell_type": "code",
   "execution_count": null,
   "metadata": {
    "collapsed": false
   },
   "outputs": [],
   "source": [
    "# How many players on a team with ranking <10 played more than 350 minutes?\n",
    "# Hint: Convert minutes to integers before comparing it to a value"
   ]
  },
  {
   "cell_type": "code",
   "execution_count": null,
   "metadata": {
    "collapsed": false
   },
   "outputs": [],
   "source": [
    "# BONUS!\n",
    "# Write a loop that interactively asks the user to enter a team name.\n",
    "# If the team exists, print how many games the team played, how many yellow cards and\n",
    "# red cards the team had, and the average number of minutes played by players on that team.\n",
    "# If the team doesn't exist, print \"Team not in 2010 World Cup\".\n",
    "# If 'quit' is entered, terminate the loop."
   ]
  }
 ],
 "metadata": {
  "anaconda-cloud": {},
  "kernelspec": {
   "display_name": "Python [Root]",
   "language": "python",
   "name": "Python [Root]"
  },
  "language_info": {
   "codemirror_mode": {
    "name": "ipython",
    "version": 3
   },
   "file_extension": ".py",
   "mimetype": "text/x-python",
   "name": "python",
   "nbconvert_exporter": "python",
   "pygments_lexer": "ipython3",
   "version": "3.5.2"
  }
 },
 "nbformat": 4,
 "nbformat_minor": 0
}
